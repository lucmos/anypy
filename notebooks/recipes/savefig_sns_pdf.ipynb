{
 "cells": [
  {
   "cell_type": "code",
   "execution_count": null,
   "metadata": {},
   "outputs": [],
   "source": [
    "import matplotlib.pyplot as plt\n",
    "from tueplots import bundles, figsizes, axes, fonts\n",
    "from tueplots.figsizes import _GOLDEN_RATIO\n",
    "import seaborn as sns\n",
    "import matplotlib as mpl\n",
    "\n",
    "N_ROWS = 1\n",
    "N_COLS = 1\n",
    "RATIO = _GOLDEN_RATIO\n",
    "\n",
    "plt.rcParams.update({\"figure.dpi\": 150})\n",
    "plt.rcParams.update(bundles.iclr2024())\n",
    "plt.rcParams.update(figsizes.iclr2024(ncols=N_COLS, nrows=N_ROWS, height_to_width_ratio=RATIO))\n",
    "plt.rcParams.update(axes.lines())\n",
    "# sns.set_theme(style='white')\n",
    "sns.set_theme()\n",
    "\n",
    "fig, ax = plt.subplots(nrows=N_ROWS, ncols=N_COLS, sharex=True, sharey=True)\n",
    "\n",
    "iris = sns.load_dataset(\"iris\")\n",
    "sns.lineplot(data=iris, x=\"sepal_length\", y=\"sepal_width\", palette=\"Spectral_r\", ax=ax)\n",
    "\n",
    "ax.set_aspect(\"equal\")\n",
    "ax.set_title(\"Sample plot\")\n",
    "ax.set_xlabel(\"Sepal length\")\n",
    "ax.set_ylabel(\"Sepal width\")\n",
    "# ax.set_xticklabels([\"AE\", \"VAE\", \"LinAE\", \"LinVAE\"])\n",
    "# ax.legend(title=\"Projections\")\n",
    "# sns.move_legend(ax, title=\"Projections\", loc=\"lower center\", frameon=True, ncol=4, bbox_to_anchor=(0.45, 0))\n",
    "\n",
    "filename = f\"example_fig\"\n",
    "fig.savefig(f\"{filename}.svg\", bbox_inches=\"tight\", pad_inches=0)\n",
    "!rsvg-convert -f pdf -o {filename}.pdf {filename}.svg\n",
    "!rm {filename}.svg"
   ]
  }
 ],
 "metadata": {
  "kernelspec": {
   "display_name": "anypy",
   "language": "python",
   "name": "python3"
  },
  "language_info": {
   "codemirror_mode": {
    "name": "ipython",
    "version": 3
   },
   "file_extension": ".py",
   "mimetype": "text/x-python",
   "name": "python",
   "nbconvert_exporter": "python",
   "pygments_lexer": "ipython3",
   "version": "3.11.5"
  }
 },
 "nbformat": 4,
 "nbformat_minor": 2
}
