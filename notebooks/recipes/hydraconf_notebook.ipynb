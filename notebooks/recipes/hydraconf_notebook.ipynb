{
 "cells": [
  {
   "cell_type": "code",
   "execution_count": null,
   "metadata": {},
   "outputs": [],
   "source": [
    "%load_ext autoreload\n",
    "%autoreload 2\n",
    "\n",
    "from hydra import initialize, compose\n",
    "\n",
    "initialize(version_base=None, config_path=str(\"../conf\"), job_name=\"cap3d_exploration\")"
   ]
  },
  {
   "cell_type": "code",
   "execution_count": null,
   "metadata": {},
   "outputs": [],
   "source": [
    "cfg = compose(config_name=\"default\", overrides=[])"
   ]
  }
 ],
 "metadata": {
  "kernelspec": {
   "display_name": "anypy",
   "language": "python",
   "name": "python3"
  },
  "language_info": {
   "name": "python",
   "version": "3.11.4"
  }
 },
 "nbformat": 4,
 "nbformat_minor": 2
}
