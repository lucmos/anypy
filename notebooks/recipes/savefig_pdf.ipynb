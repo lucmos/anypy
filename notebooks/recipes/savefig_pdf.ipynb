{
 "cells": [
  {
   "cell_type": "markdown",
   "metadata": {},
   "source": [
    "# Define any plot savable as .svg"
   ]
  },
  {
   "cell_type": "code",
   "execution_count": null,
   "metadata": {},
   "outputs": [],
   "source": [
    "import matplotlib.pyplot as plt\n",
    "\n",
    "fig, ax = plt.subplots()\n",
    "\n",
    "fruits = [\"apple\", \"blueberry\", \"cherry\", \"orange\"]\n",
    "counts = [40, 100, 30, 55]\n",
    "bar_labels = [\"red\", \"blue\", \"_red\", \"orange\"]\n",
    "bar_colors = [\"tab:red\", \"tab:blue\", \"tab:red\", \"tab:orange\"]\n",
    "\n",
    "ax.bar(fruits, counts, label=bar_labels, color=bar_colors)\n",
    "\n",
    "ax.set_ylabel(\"fruit supply\")\n",
    "ax.set_title(\"Fruit supply by kind and color\")\n",
    "ax.legend(title=\"Fruit color\")"
   ]
  },
  {
   "cell_type": "markdown",
   "metadata": {},
   "source": [
    "# Save in .svg and convert to .pdf losslessly"
   ]
  },
  {
   "cell_type": "code",
   "execution_count": null,
   "metadata": {},
   "outputs": [],
   "source": [
    "filname = f\"example_fig\"\n",
    "fig.savefig(f\"{filname}.svg\", bbox_inches=\"tight\", pad_inches=0)\n",
    "!rsvg-convert -f pdf -o {filname}.pdf {filname}.svg\n",
    "!rm {filname}.svg"
   ]
  }
 ],
 "metadata": {
  "kernelspec": {
   "display_name": "anypy",
   "language": "python",
   "name": "python3"
  },
  "language_info": {
   "codemirror_mode": {
    "name": "ipython",
    "version": 3
   },
   "file_extension": ".py",
   "mimetype": "text/x-python",
   "name": "python",
   "nbconvert_exporter": "python",
   "pygments_lexer": "ipython3",
   "version": "3.11.4"
  }
 },
 "nbformat": 4,
 "nbformat_minor": 2
}
